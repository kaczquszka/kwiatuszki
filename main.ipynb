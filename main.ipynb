{
 "cells": [
  {
   "cell_type": "code",
   "execution_count": 1,
   "id": "7d83ee2d",
   "metadata": {},
   "outputs": [
    {
     "data": {
      "text/html": [
       "<div>\n",
       "<style scoped>\n",
       "    .dataframe tbody tr th:only-of-type {\n",
       "        vertical-align: middle;\n",
       "    }\n",
       "\n",
       "    .dataframe tbody tr th {\n",
       "        vertical-align: top;\n",
       "    }\n",
       "\n",
       "    .dataframe thead th {\n",
       "        text-align: right;\n",
       "    }\n",
       "</style>\n",
       "<table border=\"1\" class=\"dataframe\">\n",
       "  <thead>\n",
       "    <tr style=\"text-align: right;\">\n",
       "      <th></th>\n",
       "      <th>Plant Name</th>\n",
       "      <th>Growth</th>\n",
       "      <th>Soil</th>\n",
       "      <th>Sunlight</th>\n",
       "      <th>Watering</th>\n",
       "      <th>Fertilization Type</th>\n",
       "    </tr>\n",
       "  </thead>\n",
       "  <tbody>\n",
       "    <tr>\n",
       "      <th>0</th>\n",
       "      <td>Aloe Vera</td>\n",
       "      <td>slow</td>\n",
       "      <td>sandy</td>\n",
       "      <td>indirect sunlight</td>\n",
       "      <td>Water weekly</td>\n",
       "      <td>Balanced</td>\n",
       "    </tr>\n",
       "    <tr>\n",
       "      <th>1</th>\n",
       "      <td>Basil</td>\n",
       "      <td>fast</td>\n",
       "      <td>well-drained</td>\n",
       "      <td>full sunlight</td>\n",
       "      <td>Keep soil evenly moist</td>\n",
       "      <td>Organic</td>\n",
       "    </tr>\n",
       "    <tr>\n",
       "      <th>2</th>\n",
       "      <td>Snake Plant</td>\n",
       "      <td>slow</td>\n",
       "      <td>well-drained</td>\n",
       "      <td>indirect sunlight</td>\n",
       "      <td>Water when soil is dry</td>\n",
       "      <td>No</td>\n",
       "    </tr>\n",
       "    <tr>\n",
       "      <th>3</th>\n",
       "      <td>Lavender</td>\n",
       "      <td>moderate</td>\n",
       "      <td>sandy</td>\n",
       "      <td>full sunlight</td>\n",
       "      <td>Let soil dry between watering</td>\n",
       "      <td>No</td>\n",
       "    </tr>\n",
       "    <tr>\n",
       "      <th>4</th>\n",
       "      <td>Cactus</td>\n",
       "      <td>slow</td>\n",
       "      <td>sandy</td>\n",
       "      <td>full sunlight</td>\n",
       "      <td>Let soil dry between watering</td>\n",
       "      <td>Low-nitrogen</td>\n",
       "    </tr>\n",
       "  </tbody>\n",
       "</table>\n",
       "</div>"
      ],
      "text/plain": [
       "    Plant Name    Growth          Soil           Sunlight  \\\n",
       "0    Aloe Vera      slow         sandy  indirect sunlight   \n",
       "1        Basil      fast  well-drained      full sunlight   \n",
       "2  Snake Plant      slow  well-drained  indirect sunlight   \n",
       "3     Lavender  moderate         sandy      full sunlight   \n",
       "4       Cactus      slow         sandy      full sunlight   \n",
       "\n",
       "                        Watering Fertilization Type  \n",
       "0                   Water weekly           Balanced  \n",
       "1         Keep soil evenly moist            Organic  \n",
       "2         Water when soil is dry                 No  \n",
       "3  Let soil dry between watering                 No  \n",
       "4  Let soil dry between watering       Low-nitrogen  "
      ]
     },
     "execution_count": 1,
     "metadata": {},
     "output_type": "execute_result"
    }
   ],
   "source": [
    "import pandas as pd\n",
    "import numpy as np\n",
    "\n",
    "df = pd.read_csv(\"plants.csv\", encoding = \"latin1\")\n",
    "df.head()"
   ]
  },
  {
   "cell_type": "markdown",
   "id": "c49d2109",
   "metadata": {},
   "source": [
    "Dropping duplicates, so onlly unique parameters remain. Saving edited dataset into new file for further exploatation."
   ]
  },
  {
   "cell_type": "code",
   "execution_count": 2,
   "id": "6996c03b",
   "metadata": {},
   "outputs": [],
   "source": [
    "df = df.drop_duplicates(subset=df.columns[1:], keep='first')\n",
    "df = df.reset_index(drop=True)\n",
    "df.to_csv(\"dupa.csv\", index=False)"
   ]
  },
  {
   "cell_type": "code",
   "execution_count": 3,
   "id": "482de888",
   "metadata": {},
   "outputs": [
    {
     "name": "stderr",
     "output_type": "stream",
     "text": [
      "C:\\Users\\marta\\AppData\\Local\\Temp\\ipykernel_3472\\3992920468.py:2: FutureWarning: ChainedAssignmentError: behaviour will change in pandas 3.0!\n",
      "You are setting values through chained assignment. Currently this works in certain cases, but when using Copy-on-Write (which will become the default behaviour in pandas 3.0) this will never work to update the original DataFrame or Series, because the intermediate object on which we are setting values will behave as a copy.\n",
      "A typical example is when you are setting values in a column of a DataFrame, like:\n",
      "\n",
      "df[\"col\"][row_indexer] = value\n",
      "\n",
      "Use `df.loc[row_indexer, \"col\"] = values` instead, to perform the assignment in a single step and ensure this keeps updating the original `df`.\n",
      "\n",
      "See the caveats in the documentation: https://pandas.pydata.org/pandas-docs/stable/user_guide/indexing.html#returning-a-view-versus-a-copy\n",
      "\n",
      "  df['Watering'][df[\"Watering\"]==\"Regular watering\"]=\"Regular Watering\"\n"
     ]
    }
   ],
   "source": [
    "#fixing spelling error\n",
    "df['Watering'][df[\"Watering\"]==\"Regular watering\"]=\"Regular Watering\""
   ]
  },
  {
   "cell_type": "code",
   "execution_count": 4,
   "id": "65772c85",
   "metadata": {},
   "outputs": [
    {
     "data": {
      "text/plain": [
       "array(['Water weekly', 'Keep soil evenly moist', 'Water when soil is dry',\n",
       "       'Let soil dry between watering', 'Keep soil consistently moist',\n",
       "       'Water when soil feels dry', 'Keep soil slightly moist',\n",
       "       'Water when topsoil is dry', 'Keep soil moist', 'Regular Watering',\n",
       "       'Regular, well-drained soil', 'Regular, moist soil'], dtype=object)"
      ]
     },
     "execution_count": 4,
     "metadata": {},
     "output_type": "execute_result"
    }
   ],
   "source": [
    "df['Watering'].unique()"
   ]
  },
  {
   "cell_type": "code",
   "execution_count": 5,
   "id": "0b6e4659",
   "metadata": {},
   "outputs": [
    {
     "data": {
      "text/html": [
       "<div>\n",
       "<style scoped>\n",
       "    .dataframe tbody tr th:only-of-type {\n",
       "        vertical-align: middle;\n",
       "    }\n",
       "\n",
       "    .dataframe tbody tr th {\n",
       "        vertical-align: top;\n",
       "    }\n",
       "\n",
       "    .dataframe thead th {\n",
       "        text-align: right;\n",
       "    }\n",
       "</style>\n",
       "<table border=\"1\" class=\"dataframe\">\n",
       "  <thead>\n",
       "    <tr style=\"text-align: right;\">\n",
       "      <th></th>\n",
       "      <th>Plant Name</th>\n",
       "      <th>Growth</th>\n",
       "      <th>Soil</th>\n",
       "      <th>Sunlight</th>\n",
       "      <th>Watering</th>\n",
       "      <th>Fertilization Type</th>\n",
       "      <th>Watering Frequency</th>\n",
       "    </tr>\n",
       "  </thead>\n",
       "  <tbody>\n",
       "    <tr>\n",
       "      <th>0</th>\n",
       "      <td>Aloe Vera</td>\n",
       "      <td>slow</td>\n",
       "      <td>sandy</td>\n",
       "      <td>indirect sunlight</td>\n",
       "      <td>Water weekly</td>\n",
       "      <td>Balanced</td>\n",
       "      <td>-0.272727</td>\n",
       "    </tr>\n",
       "    <tr>\n",
       "      <th>1</th>\n",
       "      <td>Basil</td>\n",
       "      <td>fast</td>\n",
       "      <td>well-drained</td>\n",
       "      <td>full sunlight</td>\n",
       "      <td>Keep soil evenly moist</td>\n",
       "      <td>Organic</td>\n",
       "      <td>0.818182</td>\n",
       "    </tr>\n",
       "    <tr>\n",
       "      <th>2</th>\n",
       "      <td>Snake Plant</td>\n",
       "      <td>slow</td>\n",
       "      <td>well-drained</td>\n",
       "      <td>indirect sunlight</td>\n",
       "      <td>Water when soil is dry</td>\n",
       "      <td>No</td>\n",
       "      <td>-0.818182</td>\n",
       "    </tr>\n",
       "    <tr>\n",
       "      <th>3</th>\n",
       "      <td>Lavender</td>\n",
       "      <td>moderate</td>\n",
       "      <td>sandy</td>\n",
       "      <td>full sunlight</td>\n",
       "      <td>Let soil dry between watering</td>\n",
       "      <td>No</td>\n",
       "      <td>-1.000000</td>\n",
       "    </tr>\n",
       "    <tr>\n",
       "      <th>4</th>\n",
       "      <td>Cactus</td>\n",
       "      <td>slow</td>\n",
       "      <td>sandy</td>\n",
       "      <td>full sunlight</td>\n",
       "      <td>Let soil dry between watering</td>\n",
       "      <td>Low-nitrogen</td>\n",
       "      <td>-1.000000</td>\n",
       "    </tr>\n",
       "  </tbody>\n",
       "</table>\n",
       "</div>"
      ],
      "text/plain": [
       "    Plant Name    Growth          Soil           Sunlight  \\\n",
       "0    Aloe Vera      slow         sandy  indirect sunlight   \n",
       "1        Basil      fast  well-drained      full sunlight   \n",
       "2  Snake Plant      slow  well-drained  indirect sunlight   \n",
       "3     Lavender  moderate         sandy      full sunlight   \n",
       "4       Cactus      slow         sandy      full sunlight   \n",
       "\n",
       "                        Watering Fertilization Type  Watering Frequency  \n",
       "0                   Water weekly           Balanced           -0.272727  \n",
       "1         Keep soil evenly moist            Organic            0.818182  \n",
       "2         Water when soil is dry                 No           -0.818182  \n",
       "3  Let soil dry between watering                 No           -1.000000  \n",
       "4  Let soil dry between watering       Low-nitrogen           -1.000000  "
      ]
     },
     "execution_count": 5,
     "metadata": {},
     "output_type": "execute_result"
    }
   ],
   "source": [
    "moisture_levels = [\n",
    "    \"Keep soil consistently moist\",\n",
    "    \"Keep soil evenly moist\",\n",
    "    \"Keep soil moist\",\n",
    "    \"Keep soil slightly moist\",\n",
    "    \"Regular, moist soil\",\n",
    "    \"Regular Watering\",\n",
    "    \"Regular, well-drained soil\",\n",
    "    \"Water weekly\",\n",
    "    \"Water when soil feels dry\",\n",
    "    \"Water when topsoil is dry\",\n",
    "    \"Water when soil is dry\",\n",
    "    \"Let soil dry between watering\"\n",
    "]\n",
    "level = np.linspace(1,-1,len(moisture_levels))\n",
    "mapping = dict(zip(moisture_levels,level))\n",
    "mapping\n",
    "\n",
    "df['Watering Frequency']=df[\"Watering\"].map(mapping)\n",
    "df.head()"
   ]
  },
  {
   "cell_type": "code",
   "execution_count": 6,
   "id": "965dd283",
   "metadata": {},
   "outputs": [
    {
     "data": {
      "text/plain": [
       "array(['Balanced', 'Organic', 'No', 'Low-nitrogen', 'Acidic'],\n",
       "      dtype=object)"
      ]
     },
     "execution_count": 6,
     "metadata": {},
     "output_type": "execute_result"
    }
   ],
   "source": [
    "df['Fertilization Type'].unique()"
   ]
  },
  {
   "cell_type": "code",
   "execution_count": 7,
   "id": "3ca0aefe",
   "metadata": {},
   "outputs": [],
   "source": [
    "health_level =[\n",
    "    \"Balanced\",\n",
    "    \"Organic\",\n",
    "    \"No\",\n",
    "    \"Low-nitrogen\",\n",
    "    \"Acidic\"\n",
    "]\n",
    "\n",
    "level = np.linspace(1,-1, len(health_level))\n",
    "mapping = dict(zip(health_level, level))\n",
    "\n",
    "df[\"Health Indicator\"] = df['Fertilization Type'].map(mapping)"
   ]
  },
  {
   "cell_type": "code",
   "execution_count": 8,
   "id": "b7443dcf",
   "metadata": {},
   "outputs": [
    {
     "data": {
      "text/html": [
       "<div>\n",
       "<style scoped>\n",
       "    .dataframe tbody tr th:only-of-type {\n",
       "        vertical-align: middle;\n",
       "    }\n",
       "\n",
       "    .dataframe tbody tr th {\n",
       "        vertical-align: top;\n",
       "    }\n",
       "\n",
       "    .dataframe thead th {\n",
       "        text-align: right;\n",
       "    }\n",
       "</style>\n",
       "<table border=\"1\" class=\"dataframe\">\n",
       "  <thead>\n",
       "    <tr style=\"text-align: right;\">\n",
       "      <th></th>\n",
       "      <th>Plant Name</th>\n",
       "      <th>Growth</th>\n",
       "      <th>Soil</th>\n",
       "      <th>Sunlight</th>\n",
       "      <th>Watering</th>\n",
       "      <th>Fertilization Type</th>\n",
       "      <th>Watering Frequency</th>\n",
       "      <th>Health Indicator</th>\n",
       "    </tr>\n",
       "  </thead>\n",
       "  <tbody>\n",
       "    <tr>\n",
       "      <th>0</th>\n",
       "      <td>Aloe Vera</td>\n",
       "      <td>slow</td>\n",
       "      <td>sandy</td>\n",
       "      <td>indirect sunlight</td>\n",
       "      <td>Water weekly</td>\n",
       "      <td>Balanced</td>\n",
       "      <td>-0.272727</td>\n",
       "      <td>1.0</td>\n",
       "    </tr>\n",
       "    <tr>\n",
       "      <th>1</th>\n",
       "      <td>Basil</td>\n",
       "      <td>fast</td>\n",
       "      <td>well-drained</td>\n",
       "      <td>full sunlight</td>\n",
       "      <td>Keep soil evenly moist</td>\n",
       "      <td>Organic</td>\n",
       "      <td>0.818182</td>\n",
       "      <td>0.5</td>\n",
       "    </tr>\n",
       "    <tr>\n",
       "      <th>2</th>\n",
       "      <td>Snake Plant</td>\n",
       "      <td>slow</td>\n",
       "      <td>well-drained</td>\n",
       "      <td>indirect sunlight</td>\n",
       "      <td>Water when soil is dry</td>\n",
       "      <td>No</td>\n",
       "      <td>-0.818182</td>\n",
       "      <td>0.0</td>\n",
       "    </tr>\n",
       "    <tr>\n",
       "      <th>3</th>\n",
       "      <td>Lavender</td>\n",
       "      <td>moderate</td>\n",
       "      <td>sandy</td>\n",
       "      <td>full sunlight</td>\n",
       "      <td>Let soil dry between watering</td>\n",
       "      <td>No</td>\n",
       "      <td>-1.000000</td>\n",
       "      <td>0.0</td>\n",
       "    </tr>\n",
       "    <tr>\n",
       "      <th>4</th>\n",
       "      <td>Cactus</td>\n",
       "      <td>slow</td>\n",
       "      <td>sandy</td>\n",
       "      <td>full sunlight</td>\n",
       "      <td>Let soil dry between watering</td>\n",
       "      <td>Low-nitrogen</td>\n",
       "      <td>-1.000000</td>\n",
       "      <td>-0.5</td>\n",
       "    </tr>\n",
       "  </tbody>\n",
       "</table>\n",
       "</div>"
      ],
      "text/plain": [
       "    Plant Name    Growth          Soil           Sunlight  \\\n",
       "0    Aloe Vera      slow         sandy  indirect sunlight   \n",
       "1        Basil      fast  well-drained      full sunlight   \n",
       "2  Snake Plant      slow  well-drained  indirect sunlight   \n",
       "3     Lavender  moderate         sandy      full sunlight   \n",
       "4       Cactus      slow         sandy      full sunlight   \n",
       "\n",
       "                        Watering Fertilization Type  Watering Frequency  \\\n",
       "0                   Water weekly           Balanced           -0.272727   \n",
       "1         Keep soil evenly moist            Organic            0.818182   \n",
       "2         Water when soil is dry                 No           -0.818182   \n",
       "3  Let soil dry between watering                 No           -1.000000   \n",
       "4  Let soil dry between watering       Low-nitrogen           -1.000000   \n",
       "\n",
       "   Health Indicator  \n",
       "0               1.0  \n",
       "1               0.5  \n",
       "2               0.0  \n",
       "3               0.0  \n",
       "4              -0.5  "
      ]
     },
     "execution_count": 8,
     "metadata": {},
     "output_type": "execute_result"
    }
   ],
   "source": [
    "df.head()"
   ]
  },
  {
   "cell_type": "code",
   "execution_count": 9,
   "id": "b62a93aa",
   "metadata": {},
   "outputs": [
    {
     "data": {
      "text/plain": [
       "array(['slow', 'fast', 'moderate'], dtype=object)"
      ]
     },
     "execution_count": 9,
     "metadata": {},
     "output_type": "execute_result"
    }
   ],
   "source": [
    "df['Growth'].unique()"
   ]
  },
  {
   "cell_type": "code",
   "execution_count": 10,
   "id": "8b11ecff",
   "metadata": {},
   "outputs": [],
   "source": [
    "efficiency_level=[\n",
    "    \"fast\",\n",
    "    \"moderate\",\n",
    "    \"slow\"\n",
    "]\n",
    "\n",
    "level = np.linspace(1,-1,len(efficiency_level))\n",
    "\n",
    "mapping = dict(zip(efficiency_level, level))\n",
    "df[\"Efficiency\"] = df['Growth'].map(mapping)"
   ]
  },
  {
   "cell_type": "code",
   "execution_count": 11,
   "id": "194706ea",
   "metadata": {},
   "outputs": [
    {
     "data": {
      "text/html": [
       "<div>\n",
       "<style scoped>\n",
       "    .dataframe tbody tr th:only-of-type {\n",
       "        vertical-align: middle;\n",
       "    }\n",
       "\n",
       "    .dataframe tbody tr th {\n",
       "        vertical-align: top;\n",
       "    }\n",
       "\n",
       "    .dataframe thead th {\n",
       "        text-align: right;\n",
       "    }\n",
       "</style>\n",
       "<table border=\"1\" class=\"dataframe\">\n",
       "  <thead>\n",
       "    <tr style=\"text-align: right;\">\n",
       "      <th></th>\n",
       "      <th>Plant Name</th>\n",
       "      <th>Growth</th>\n",
       "      <th>Soil</th>\n",
       "      <th>Sunlight</th>\n",
       "      <th>Watering</th>\n",
       "      <th>Fertilization Type</th>\n",
       "      <th>Watering Frequency</th>\n",
       "      <th>Health Indicator</th>\n",
       "      <th>Efficiency</th>\n",
       "    </tr>\n",
       "  </thead>\n",
       "  <tbody>\n",
       "    <tr>\n",
       "      <th>0</th>\n",
       "      <td>Aloe Vera</td>\n",
       "      <td>slow</td>\n",
       "      <td>sandy</td>\n",
       "      <td>indirect sunlight</td>\n",
       "      <td>Water weekly</td>\n",
       "      <td>Balanced</td>\n",
       "      <td>-0.272727</td>\n",
       "      <td>1.0</td>\n",
       "      <td>-1.0</td>\n",
       "    </tr>\n",
       "    <tr>\n",
       "      <th>1</th>\n",
       "      <td>Basil</td>\n",
       "      <td>fast</td>\n",
       "      <td>well-drained</td>\n",
       "      <td>full sunlight</td>\n",
       "      <td>Keep soil evenly moist</td>\n",
       "      <td>Organic</td>\n",
       "      <td>0.818182</td>\n",
       "      <td>0.5</td>\n",
       "      <td>1.0</td>\n",
       "    </tr>\n",
       "    <tr>\n",
       "      <th>2</th>\n",
       "      <td>Snake Plant</td>\n",
       "      <td>slow</td>\n",
       "      <td>well-drained</td>\n",
       "      <td>indirect sunlight</td>\n",
       "      <td>Water when soil is dry</td>\n",
       "      <td>No</td>\n",
       "      <td>-0.818182</td>\n",
       "      <td>0.0</td>\n",
       "      <td>-1.0</td>\n",
       "    </tr>\n",
       "    <tr>\n",
       "      <th>3</th>\n",
       "      <td>Lavender</td>\n",
       "      <td>moderate</td>\n",
       "      <td>sandy</td>\n",
       "      <td>full sunlight</td>\n",
       "      <td>Let soil dry between watering</td>\n",
       "      <td>No</td>\n",
       "      <td>-1.000000</td>\n",
       "      <td>0.0</td>\n",
       "      <td>0.0</td>\n",
       "    </tr>\n",
       "    <tr>\n",
       "      <th>4</th>\n",
       "      <td>Cactus</td>\n",
       "      <td>slow</td>\n",
       "      <td>sandy</td>\n",
       "      <td>full sunlight</td>\n",
       "      <td>Let soil dry between watering</td>\n",
       "      <td>Low-nitrogen</td>\n",
       "      <td>-1.000000</td>\n",
       "      <td>-0.5</td>\n",
       "      <td>-1.0</td>\n",
       "    </tr>\n",
       "  </tbody>\n",
       "</table>\n",
       "</div>"
      ],
      "text/plain": [
       "    Plant Name    Growth          Soil           Sunlight  \\\n",
       "0    Aloe Vera      slow         sandy  indirect sunlight   \n",
       "1        Basil      fast  well-drained      full sunlight   \n",
       "2  Snake Plant      slow  well-drained  indirect sunlight   \n",
       "3     Lavender  moderate         sandy      full sunlight   \n",
       "4       Cactus      slow         sandy      full sunlight   \n",
       "\n",
       "                        Watering Fertilization Type  Watering Frequency  \\\n",
       "0                   Water weekly           Balanced           -0.272727   \n",
       "1         Keep soil evenly moist            Organic            0.818182   \n",
       "2         Water when soil is dry                 No           -0.818182   \n",
       "3  Let soil dry between watering                 No           -1.000000   \n",
       "4  Let soil dry between watering       Low-nitrogen           -1.000000   \n",
       "\n",
       "   Health Indicator  Efficiency  \n",
       "0               1.0        -1.0  \n",
       "1               0.5         1.0  \n",
       "2               0.0        -1.0  \n",
       "3               0.0         0.0  \n",
       "4              -0.5        -1.0  "
      ]
     },
     "execution_count": 11,
     "metadata": {},
     "output_type": "execute_result"
    }
   ],
   "source": [
    "df.head()"
   ]
  },
  {
   "cell_type": "code",
   "execution_count": 12,
   "id": "cf046908",
   "metadata": {},
   "outputs": [
    {
     "data": {
      "text/plain": [
       "array(['sandy', 'well-drained', 'loamy', 'acidic', 'moist'], dtype=object)"
      ]
     },
     "execution_count": 12,
     "metadata": {},
     "output_type": "execute_result"
    }
   ],
   "source": [
    "df['Soil'].unique()"
   ]
  },
  {
   "cell_type": "code",
   "execution_count": 13,
   "id": "b9bff513",
   "metadata": {},
   "outputs": [
    {
     "data": {
      "text/html": [
       "<div>\n",
       "<style scoped>\n",
       "    .dataframe tbody tr th:only-of-type {\n",
       "        vertical-align: middle;\n",
       "    }\n",
       "\n",
       "    .dataframe tbody tr th {\n",
       "        vertical-align: top;\n",
       "    }\n",
       "\n",
       "    .dataframe thead th {\n",
       "        text-align: right;\n",
       "    }\n",
       "</style>\n",
       "<table border=\"1\" class=\"dataframe\">\n",
       "  <thead>\n",
       "    <tr style=\"text-align: right;\">\n",
       "      <th></th>\n",
       "      <th>Plant Name</th>\n",
       "      <th>Growth</th>\n",
       "      <th>Soil</th>\n",
       "      <th>Sunlight</th>\n",
       "      <th>Watering</th>\n",
       "      <th>Fertilization Type</th>\n",
       "      <th>Watering Frequency</th>\n",
       "      <th>Health Indicator</th>\n",
       "      <th>Efficiency</th>\n",
       "      <th>Soil goodness</th>\n",
       "    </tr>\n",
       "  </thead>\n",
       "  <tbody>\n",
       "    <tr>\n",
       "      <th>0</th>\n",
       "      <td>Aloe Vera</td>\n",
       "      <td>slow</td>\n",
       "      <td>sandy</td>\n",
       "      <td>indirect sunlight</td>\n",
       "      <td>Water weekly</td>\n",
       "      <td>Balanced</td>\n",
       "      <td>-0.272727</td>\n",
       "      <td>1.0</td>\n",
       "      <td>-1.0</td>\n",
       "      <td>-0.5</td>\n",
       "    </tr>\n",
       "    <tr>\n",
       "      <th>1</th>\n",
       "      <td>Basil</td>\n",
       "      <td>fast</td>\n",
       "      <td>well-drained</td>\n",
       "      <td>full sunlight</td>\n",
       "      <td>Keep soil evenly moist</td>\n",
       "      <td>Organic</td>\n",
       "      <td>0.818182</td>\n",
       "      <td>0.5</td>\n",
       "      <td>1.0</td>\n",
       "      <td>0.0</td>\n",
       "    </tr>\n",
       "    <tr>\n",
       "      <th>2</th>\n",
       "      <td>Snake Plant</td>\n",
       "      <td>slow</td>\n",
       "      <td>well-drained</td>\n",
       "      <td>indirect sunlight</td>\n",
       "      <td>Water when soil is dry</td>\n",
       "      <td>No</td>\n",
       "      <td>-0.818182</td>\n",
       "      <td>0.0</td>\n",
       "      <td>-1.0</td>\n",
       "      <td>0.0</td>\n",
       "    </tr>\n",
       "    <tr>\n",
       "      <th>3</th>\n",
       "      <td>Lavender</td>\n",
       "      <td>moderate</td>\n",
       "      <td>sandy</td>\n",
       "      <td>full sunlight</td>\n",
       "      <td>Let soil dry between watering</td>\n",
       "      <td>No</td>\n",
       "      <td>-1.000000</td>\n",
       "      <td>0.0</td>\n",
       "      <td>0.0</td>\n",
       "      <td>-0.5</td>\n",
       "    </tr>\n",
       "    <tr>\n",
       "      <th>4</th>\n",
       "      <td>Cactus</td>\n",
       "      <td>slow</td>\n",
       "      <td>sandy</td>\n",
       "      <td>full sunlight</td>\n",
       "      <td>Let soil dry between watering</td>\n",
       "      <td>Low-nitrogen</td>\n",
       "      <td>-1.000000</td>\n",
       "      <td>-0.5</td>\n",
       "      <td>-1.0</td>\n",
       "      <td>-0.5</td>\n",
       "    </tr>\n",
       "  </tbody>\n",
       "</table>\n",
       "</div>"
      ],
      "text/plain": [
       "    Plant Name    Growth          Soil           Sunlight  \\\n",
       "0    Aloe Vera      slow         sandy  indirect sunlight   \n",
       "1        Basil      fast  well-drained      full sunlight   \n",
       "2  Snake Plant      slow  well-drained  indirect sunlight   \n",
       "3     Lavender  moderate         sandy      full sunlight   \n",
       "4       Cactus      slow         sandy      full sunlight   \n",
       "\n",
       "                        Watering Fertilization Type  Watering Frequency  \\\n",
       "0                   Water weekly           Balanced           -0.272727   \n",
       "1         Keep soil evenly moist            Organic            0.818182   \n",
       "2         Water when soil is dry                 No           -0.818182   \n",
       "3  Let soil dry between watering                 No           -1.000000   \n",
       "4  Let soil dry between watering       Low-nitrogen           -1.000000   \n",
       "\n",
       "   Health Indicator  Efficiency  Soil goodness  \n",
       "0               1.0        -1.0           -0.5  \n",
       "1               0.5         1.0            0.0  \n",
       "2               0.0        -1.0            0.0  \n",
       "3               0.0         0.0           -0.5  \n",
       "4              -0.5        -1.0           -0.5  "
      ]
     },
     "execution_count": 13,
     "metadata": {},
     "output_type": "execute_result"
    }
   ],
   "source": [
    "soil = [\n",
    "    \"loamy\",\n",
    "    \"moist\",\n",
    "    \"well-drained\",\n",
    "    \"sandy\",\n",
    "    \"acidic\"\n",
    "]\n",
    "level = np.linspace(1,-1,len(soil))\n",
    "\n",
    "mapping = dict(zip(soil,level))\n",
    "\n",
    "df['Soil goodness'] = df['Soil'].map(mapping)\n",
    "\n",
    "df.head()"
   ]
  },
  {
   "cell_type": "code",
   "execution_count": 14,
   "id": "05aaab87",
   "metadata": {},
   "outputs": [
    {
     "data": {
      "text/plain": [
       "array(['indirect sunlight', 'full sunlight', 'partial sunlight'],\n",
       "      dtype=object)"
      ]
     },
     "execution_count": 14,
     "metadata": {},
     "output_type": "execute_result"
    }
   ],
   "source": [
    "df['Sunlight'].unique()"
   ]
  },
  {
   "cell_type": "code",
   "execution_count": 15,
   "id": "a610ee4b",
   "metadata": {},
   "outputs": [],
   "source": [
    "sun =['full sunlight',\n",
    "    'partial sunlight',\n",
    "     'indirect sunlight'\n",
    "]\n",
    "\n",
    "level =np.linspace(1,-1,len(sun))\n",
    "mapping = dict(zip(sun,level))\n",
    "\n",
    "df['sun liking'] = df['Sunlight'].map(mapping)"
   ]
  },
  {
   "cell_type": "code",
   "execution_count": 16,
   "id": "90a5a8f2",
   "metadata": {},
   "outputs": [
    {
     "name": "stderr",
     "output_type": "stream",
     "text": [
      "c:\\Users\\marta\\AppData\\Local\\Programs\\Python\\Python313\\Lib\\site-packages\\tqdm\\auto.py:21: TqdmWarning: IProgress not found. Please update jupyter and ipywidgets. See https://ipywidgets.readthedocs.io/en/stable/user_install.html\n",
      "  from .autonotebook import tqdm as notebook_tqdm\n"
     ]
    },
    {
     "ename": "OSError",
     "evalue": "[WinError 1114] A dynamic link library (DLL) initialization routine failed. Error loading \"c:\\Users\\marta\\AppData\\Local\\Programs\\Python\\Python313\\Lib\\site-packages\\torch\\lib\\c10.dll\" or one of its dependencies.",
     "output_type": "error",
     "traceback": [
      "\u001b[31m---------------------------------------------------------------------------\u001b[39m",
      "\u001b[31mOSError\u001b[39m                                   Traceback (most recent call last)",
      "\u001b[36mCell\u001b[39m\u001b[36m \u001b[39m\u001b[32mIn[16]\u001b[39m\u001b[32m, line 1\u001b[39m\n\u001b[32m----> \u001b[39m\u001b[32m1\u001b[39m \u001b[38;5;28;01mfrom\u001b[39;00m\u001b[38;5;250m \u001b[39m\u001b[34;01mtransformers\u001b[39;00m\u001b[38;5;250m \u001b[39m\u001b[38;5;28;01mimport\u001b[39;00m AutoTokenizer, AutoModelForSequenceClassification\n\u001b[32m      2\u001b[39m \u001b[38;5;66;03m# from scipy.special import softmax\u001b[39;00m\n",
      "\u001b[36mFile \u001b[39m\u001b[32mc:\\Users\\marta\\AppData\\Local\\Programs\\Python\\Python313\\Lib\\site-packages\\transformers\\__init__.py:27\u001b[39m\n\u001b[32m     24\u001b[39m \u001b[38;5;28;01mfrom\u001b[39;00m\u001b[38;5;250m \u001b[39m\u001b[34;01mtyping\u001b[39;00m\u001b[38;5;250m \u001b[39m\u001b[38;5;28;01mimport\u001b[39;00m TYPE_CHECKING\n\u001b[32m     26\u001b[39m \u001b[38;5;66;03m# Check the dependencies satisfy the minimal versions required.\u001b[39;00m\n\u001b[32m---> \u001b[39m\u001b[32m27\u001b[39m \u001b[38;5;28;01mfrom\u001b[39;00m\u001b[38;5;250m \u001b[39m\u001b[34;01m.\u001b[39;00m\u001b[38;5;250m \u001b[39m\u001b[38;5;28;01mimport\u001b[39;00m dependency_versions_check\n\u001b[32m     28\u001b[39m \u001b[38;5;28;01mfrom\u001b[39;00m\u001b[38;5;250m \u001b[39m\u001b[34;01m.\u001b[39;00m\u001b[34;01mutils\u001b[39;00m\u001b[38;5;250m \u001b[39m\u001b[38;5;28;01mimport\u001b[39;00m (\n\u001b[32m     29\u001b[39m     OptionalDependencyNotAvailable,\n\u001b[32m     30\u001b[39m     _LazyModule,\n\u001b[32m   (...)\u001b[39m\u001b[32m     36\u001b[39m     is_pretty_midi_available,\n\u001b[32m     37\u001b[39m )\n\u001b[32m     39\u001b[39m \u001b[38;5;66;03m# Note: the following symbols are deliberately exported with `as`\u001b[39;00m\n\u001b[32m     40\u001b[39m \u001b[38;5;66;03m# so that mypy, pylint or other static linters can recognize them,\u001b[39;00m\n\u001b[32m     41\u001b[39m \u001b[38;5;66;03m# given that they are not exported using `__all__` in this file.\u001b[39;00m\n",
      "\u001b[36mFile \u001b[39m\u001b[32mc:\\Users\\marta\\AppData\\Local\\Programs\\Python\\Python313\\Lib\\site-packages\\transformers\\dependency_versions_check.py:16\u001b[39m\n\u001b[32m      1\u001b[39m \u001b[38;5;66;03m# Copyright 2020 The HuggingFace Team. All rights reserved.\u001b[39;00m\n\u001b[32m      2\u001b[39m \u001b[38;5;66;03m#\u001b[39;00m\n\u001b[32m      3\u001b[39m \u001b[38;5;66;03m# Licensed under the Apache License, Version 2.0 (the \"License\");\u001b[39;00m\n\u001b[32m   (...)\u001b[39m\u001b[32m     12\u001b[39m \u001b[38;5;66;03m# See the License for the specific language governing permissions and\u001b[39;00m\n\u001b[32m     13\u001b[39m \u001b[38;5;66;03m# limitations under the License.\u001b[39;00m\n\u001b[32m     15\u001b[39m \u001b[38;5;28;01mfrom\u001b[39;00m\u001b[38;5;250m \u001b[39m\u001b[34;01m.\u001b[39;00m\u001b[34;01mdependency_versions_table\u001b[39;00m\u001b[38;5;250m \u001b[39m\u001b[38;5;28;01mimport\u001b[39;00m deps\n\u001b[32m---> \u001b[39m\u001b[32m16\u001b[39m \u001b[38;5;28;01mfrom\u001b[39;00m\u001b[38;5;250m \u001b[39m\u001b[34;01m.\u001b[39;00m\u001b[34;01mutils\u001b[39;00m\u001b[34;01m.\u001b[39;00m\u001b[34;01mversions\u001b[39;00m\u001b[38;5;250m \u001b[39m\u001b[38;5;28;01mimport\u001b[39;00m require_version, require_version_core\n\u001b[32m     19\u001b[39m \u001b[38;5;66;03m# define which module versions we always want to check at run time\u001b[39;00m\n\u001b[32m     20\u001b[39m \u001b[38;5;66;03m# (usually the ones defined in `install_requires` in setup.py)\u001b[39;00m\n\u001b[32m     21\u001b[39m \u001b[38;5;66;03m#\u001b[39;00m\n\u001b[32m     22\u001b[39m \u001b[38;5;66;03m# order specific notes:\u001b[39;00m\n\u001b[32m     23\u001b[39m \u001b[38;5;66;03m# - tqdm must be checked before tokenizers\u001b[39;00m\n\u001b[32m     25\u001b[39m pkgs_to_check_at_runtime = [\n\u001b[32m     26\u001b[39m     \u001b[33m\"\u001b[39m\u001b[33mpython\u001b[39m\u001b[33m\"\u001b[39m,\n\u001b[32m     27\u001b[39m     \u001b[33m\"\u001b[39m\u001b[33mtqdm\u001b[39m\u001b[33m\"\u001b[39m,\n\u001b[32m   (...)\u001b[39m\u001b[32m     37\u001b[39m     \u001b[33m\"\u001b[39m\u001b[33mpyyaml\u001b[39m\u001b[33m\"\u001b[39m,\n\u001b[32m     38\u001b[39m ]\n",
      "\u001b[36mFile \u001b[39m\u001b[32mc:\\Users\\marta\\AppData\\Local\\Programs\\Python\\Python313\\Lib\\site-packages\\transformers\\utils\\__init__.py:24\u001b[39m\n\u001b[32m     21\u001b[39m \u001b[38;5;28;01mfrom\u001b[39;00m\u001b[38;5;250m \u001b[39m\u001b[34;01mpackaging\u001b[39;00m\u001b[38;5;250m \u001b[39m\u001b[38;5;28;01mimport\u001b[39;00m version\n\u001b[32m     23\u001b[39m \u001b[38;5;28;01mfrom\u001b[39;00m\u001b[38;5;250m \u001b[39m\u001b[34;01m.\u001b[39;00m\u001b[34;01m.\u001b[39;00m\u001b[38;5;250m \u001b[39m\u001b[38;5;28;01mimport\u001b[39;00m __version__\n\u001b[32m---> \u001b[39m\u001b[32m24\u001b[39m \u001b[38;5;28;01mfrom\u001b[39;00m\u001b[38;5;250m \u001b[39m\u001b[34;01m.\u001b[39;00m\u001b[34;01mauto_docstring\u001b[39;00m\u001b[38;5;250m \u001b[39m\u001b[38;5;28;01mimport\u001b[39;00m (\n\u001b[32m     25\u001b[39m     ClassAttrs,\n\u001b[32m     26\u001b[39m     ClassDocstring,\n\u001b[32m     27\u001b[39m     ImageProcessorArgs,\n\u001b[32m     28\u001b[39m     ModelArgs,\n\u001b[32m     29\u001b[39m     ModelOutputArgs,\n\u001b[32m     30\u001b[39m     auto_class_docstring,\n\u001b[32m     31\u001b[39m     auto_docstring,\n\u001b[32m     32\u001b[39m     get_args_doc_from_source,\n\u001b[32m     33\u001b[39m     parse_docstring,\n\u001b[32m     34\u001b[39m     set_min_indent,\n\u001b[32m     35\u001b[39m )\n\u001b[32m     36\u001b[39m \u001b[38;5;28;01mfrom\u001b[39;00m\u001b[38;5;250m \u001b[39m\u001b[34;01m.\u001b[39;00m\u001b[34;01mbackbone_utils\u001b[39;00m\u001b[38;5;250m \u001b[39m\u001b[38;5;28;01mimport\u001b[39;00m BackboneConfigMixin, BackboneMixin\n\u001b[32m     37\u001b[39m \u001b[38;5;28;01mfrom\u001b[39;00m\u001b[38;5;250m \u001b[39m\u001b[34;01m.\u001b[39;00m\u001b[34;01mchat_template_utils\u001b[39;00m\u001b[38;5;250m \u001b[39m\u001b[38;5;28;01mimport\u001b[39;00m DocstringParsingException, TypeHintParsingException, get_json_schema\n",
      "\u001b[36mFile \u001b[39m\u001b[32mc:\\Users\\marta\\AppData\\Local\\Programs\\Python\\Python313\\Lib\\site-packages\\transformers\\utils\\auto_docstring.py:30\u001b[39m\n\u001b[32m     22\u001b[39m \u001b[38;5;28;01mimport\u001b[39;00m\u001b[38;5;250m \u001b[39m\u001b[34;01mregex\u001b[39;00m\u001b[38;5;250m \u001b[39m\u001b[38;5;28;01mas\u001b[39;00m\u001b[38;5;250m \u001b[39m\u001b[34;01mre\u001b[39;00m\n\u001b[32m     24\u001b[39m \u001b[38;5;28;01mfrom\u001b[39;00m\u001b[38;5;250m \u001b[39m\u001b[34;01m.\u001b[39;00m\u001b[34;01mdoc\u001b[39;00m\u001b[38;5;250m \u001b[39m\u001b[38;5;28;01mimport\u001b[39;00m (\n\u001b[32m     25\u001b[39m     MODELS_TO_PIPELINE,\n\u001b[32m     26\u001b[39m     PIPELINE_TASKS_TO_SAMPLE_DOCSTRINGS,\n\u001b[32m     27\u001b[39m     PT_SAMPLE_DOCSTRINGS,\n\u001b[32m     28\u001b[39m     _prepare_output_docstrings,\n\u001b[32m     29\u001b[39m )\n\u001b[32m---> \u001b[39m\u001b[32m30\u001b[39m \u001b[38;5;28;01mfrom\u001b[39;00m\u001b[38;5;250m \u001b[39m\u001b[34;01m.\u001b[39;00m\u001b[34;01mgeneric\u001b[39;00m\u001b[38;5;250m \u001b[39m\u001b[38;5;28;01mimport\u001b[39;00m ModelOutput\n\u001b[32m     33\u001b[39m PATH_TO_TRANSFORMERS = Path(\u001b[33m\"\u001b[39m\u001b[33msrc\u001b[39m\u001b[33m\"\u001b[39m).resolve() / \u001b[33m\"\u001b[39m\u001b[33mtransformers\u001b[39m\u001b[33m\"\u001b[39m\n\u001b[32m     36\u001b[39m AUTODOC_FILES = [\n\u001b[32m     37\u001b[39m     \u001b[33m\"\u001b[39m\u001b[33mconfiguration_*.py\u001b[39m\u001b[33m\"\u001b[39m,\n\u001b[32m     38\u001b[39m     \u001b[33m\"\u001b[39m\u001b[33mmodeling_*.py\u001b[39m\u001b[33m\"\u001b[39m,\n\u001b[32m   (...)\u001b[39m\u001b[32m     43\u001b[39m     \u001b[33m\"\u001b[39m\u001b[33mfeature_extractor_*.py\u001b[39m\u001b[33m\"\u001b[39m,\n\u001b[32m     44\u001b[39m ]\n",
      "\u001b[36mFile \u001b[39m\u001b[32mc:\\Users\\marta\\AppData\\Local\\Programs\\Python\\Python313\\Lib\\site-packages\\transformers\\utils\\generic.py:51\u001b[39m\n\u001b[32m     47\u001b[39m logger = logging.get_logger(\u001b[34m__name__\u001b[39m)\n\u001b[32m     49\u001b[39m \u001b[38;5;28;01mif\u001b[39;00m is_torch_available():\n\u001b[32m     50\u001b[39m     \u001b[38;5;66;03m# required for @can_return_tuple decorator to work with torchdynamo\u001b[39;00m\n\u001b[32m---> \u001b[39m\u001b[32m51\u001b[39m     \u001b[38;5;28;01mimport\u001b[39;00m\u001b[38;5;250m \u001b[39m\u001b[34;01mtorch\u001b[39;00m\n\u001b[32m     53\u001b[39m     \u001b[38;5;28;01mfrom\u001b[39;00m\u001b[38;5;250m \u001b[39m\u001b[34;01m.\u001b[39;00m\u001b[34;01m.\u001b[39;00m\u001b[34;01mmodel_debugging_utils\u001b[39;00m\u001b[38;5;250m \u001b[39m\u001b[38;5;28;01mimport\u001b[39;00m model_addition_debugger_context\n\u001b[32m     56\u001b[39m \u001b[38;5;66;03m# vendored from distutils.util\u001b[39;00m\n",
      "\u001b[36mFile \u001b[39m\u001b[32mc:\\Users\\marta\\AppData\\Local\\Programs\\Python\\Python313\\Lib\\site-packages\\torch\\__init__.py:281\u001b[39m\n\u001b[32m    277\u001b[39m                     \u001b[38;5;28;01mraise\u001b[39;00m err\n\u001b[32m    279\u001b[39m         kernel32.SetErrorMode(prev_error_mode)\n\u001b[32m--> \u001b[39m\u001b[32m281\u001b[39m     \u001b[43m_load_dll_libraries\u001b[49m\u001b[43m(\u001b[49m\u001b[43m)\u001b[49m\n\u001b[32m    282\u001b[39m     \u001b[38;5;28;01mdel\u001b[39;00m _load_dll_libraries\n\u001b[32m    285\u001b[39m \u001b[38;5;28;01mdef\u001b[39;00m\u001b[38;5;250m \u001b[39m\u001b[34m_get_cuda_dep_paths\u001b[39m(path: \u001b[38;5;28mstr\u001b[39m, lib_folder: \u001b[38;5;28mstr\u001b[39m, lib_name: \u001b[38;5;28mstr\u001b[39m) -> \u001b[38;5;28mlist\u001b[39m[\u001b[38;5;28mstr\u001b[39m]:\n\u001b[32m    286\u001b[39m     \u001b[38;5;66;03m# Libraries can either be in\u001b[39;00m\n\u001b[32m    287\u001b[39m     \u001b[38;5;66;03m# path/nvidia/lib_folder/lib or\u001b[39;00m\n\u001b[32m    288\u001b[39m     \u001b[38;5;66;03m# path/nvidia/cuXX/lib (since CUDA 13.0) or\u001b[39;00m\n\u001b[32m    289\u001b[39m     \u001b[38;5;66;03m# path/lib_folder/lib\u001b[39;00m\n",
      "\u001b[36mFile \u001b[39m\u001b[32mc:\\Users\\marta\\AppData\\Local\\Programs\\Python\\Python313\\Lib\\site-packages\\torch\\__init__.py:264\u001b[39m, in \u001b[36m_load_dll_libraries\u001b[39m\u001b[34m()\u001b[39m\n\u001b[32m    260\u001b[39m     err = ctypes.WinError(last_error)\n\u001b[32m    261\u001b[39m     err.strerror += (\n\u001b[32m    262\u001b[39m         \u001b[33mf\u001b[39m\u001b[33m'\u001b[39m\u001b[33m Error loading \u001b[39m\u001b[33m\"\u001b[39m\u001b[38;5;132;01m{\u001b[39;00mdll\u001b[38;5;132;01m}\u001b[39;00m\u001b[33m\"\u001b[39m\u001b[33m or one of its dependencies.\u001b[39m\u001b[33m'\u001b[39m\n\u001b[32m    263\u001b[39m     )\n\u001b[32m--> \u001b[39m\u001b[32m264\u001b[39m     \u001b[38;5;28;01mraise\u001b[39;00m err\n\u001b[32m    265\u001b[39m \u001b[38;5;28;01melif\u001b[39;00m res \u001b[38;5;129;01mis\u001b[39;00m \u001b[38;5;129;01mnot\u001b[39;00m \u001b[38;5;28;01mNone\u001b[39;00m:\n\u001b[32m    266\u001b[39m     is_loaded = \u001b[38;5;28;01mTrue\u001b[39;00m\n",
      "\u001b[31mOSError\u001b[39m: [WinError 1114] A dynamic link library (DLL) initialization routine failed. Error loading \"c:\\Users\\marta\\AppData\\Local\\Programs\\Python\\Python313\\Lib\\site-packages\\torch\\lib\\c10.dll\" or one of its dependencies."
     ]
    }
   ],
   "source": [
    "from transformers import AutoTokenizer, AutoModelForSequenceClassification\n",
    "# from scipy.special import softmax"
   ]
  },
  {
   "cell_type": "code",
   "execution_count": null,
   "id": "5b9c3e19",
   "metadata": {},
   "outputs": [
    {
     "ename": "NameError",
     "evalue": "name 'AutoTokenizer' is not defined",
     "output_type": "error",
     "traceback": [
      "\u001b[31m---------------------------------------------------------------------------\u001b[39m",
      "\u001b[31mNameError\u001b[39m                                 Traceback (most recent call last)",
      "\u001b[36mCell\u001b[39m\u001b[36m \u001b[39m\u001b[32mIn[19]\u001b[39m\u001b[32m, line 2\u001b[39m\n\u001b[32m      1\u001b[39m MODEL = \u001b[33mf\u001b[39m\u001b[33m\"\u001b[39m\u001b[33mcardiffnlp/twitter-roberta-base-sentiment\u001b[39m\u001b[33m\"\u001b[39m\n\u001b[32m----> \u001b[39m\u001b[32m2\u001b[39m tokenizer = \u001b[43mAutoTokenizer\u001b[49m.from_pretrained(MODEL)\n\u001b[32m      3\u001b[39m model = AutoModelForSequenceClassification.from_pretrained(MODEL)\n",
      "\u001b[31mNameError\u001b[39m: name 'AutoTokenizer' is not defined"
     ]
    }
   ],
   "source": [
    "MODEL = f\"cardiffnlp/twitter-roberta-base-sentiment\"\n",
    "tokenizer = AutoTokenizer.from_pretrained(MODEL)\n",
    "model = AutoModelForSequenceClassification.from_pretrained(MODEL)"
   ]
  }
 ],
 "metadata": {
  "kernelspec": {
   "display_name": "Python 3",
   "language": "python",
   "name": "python3"
  },
  "language_info": {
   "codemirror_mode": {
    "name": "ipython",
    "version": 3
   },
   "file_extension": ".py",
   "mimetype": "text/x-python",
   "name": "python",
   "nbconvert_exporter": "python",
   "pygments_lexer": "ipython3",
   "version": "3.13.5"
  }
 },
 "nbformat": 4,
 "nbformat_minor": 5
}
