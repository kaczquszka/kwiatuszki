{
 "cells": [
  {
   "cell_type": "code",
   "execution_count": 85,
   "id": "7d83ee2d",
   "metadata": {},
   "outputs": [
    {
     "data": {
      "text/html": [
       "<div>\n",
       "<style scoped>\n",
       "    .dataframe tbody tr th:only-of-type {\n",
       "        vertical-align: middle;\n",
       "    }\n",
       "\n",
       "    .dataframe tbody tr th {\n",
       "        vertical-align: top;\n",
       "    }\n",
       "\n",
       "    .dataframe thead th {\n",
       "        text-align: right;\n",
       "    }\n",
       "</style>\n",
       "<table border=\"1\" class=\"dataframe\">\n",
       "  <thead>\n",
       "    <tr style=\"text-align: right;\">\n",
       "      <th></th>\n",
       "      <th>Plant Name</th>\n",
       "      <th>Growth</th>\n",
       "      <th>Soil</th>\n",
       "      <th>Sunlight</th>\n",
       "      <th>Watering</th>\n",
       "      <th>Fertilization Type</th>\n",
       "    </tr>\n",
       "  </thead>\n",
       "  <tbody>\n",
       "    <tr>\n",
       "      <th>0</th>\n",
       "      <td>Aloe Vera</td>\n",
       "      <td>slow</td>\n",
       "      <td>sandy</td>\n",
       "      <td>indirect sunlight</td>\n",
       "      <td>Water weekly</td>\n",
       "      <td>Balanced</td>\n",
       "    </tr>\n",
       "    <tr>\n",
       "      <th>1</th>\n",
       "      <td>Basil</td>\n",
       "      <td>fast</td>\n",
       "      <td>well-drained</td>\n",
       "      <td>full sunlight</td>\n",
       "      <td>Keep soil evenly moist</td>\n",
       "      <td>Organic</td>\n",
       "    </tr>\n",
       "    <tr>\n",
       "      <th>2</th>\n",
       "      <td>Snake Plant</td>\n",
       "      <td>slow</td>\n",
       "      <td>well-drained</td>\n",
       "      <td>indirect sunlight</td>\n",
       "      <td>Water when soil is dry</td>\n",
       "      <td>No</td>\n",
       "    </tr>\n",
       "    <tr>\n",
       "      <th>3</th>\n",
       "      <td>Lavender</td>\n",
       "      <td>moderate</td>\n",
       "      <td>sandy</td>\n",
       "      <td>full sunlight</td>\n",
       "      <td>Let soil dry between watering</td>\n",
       "      <td>No</td>\n",
       "    </tr>\n",
       "    <tr>\n",
       "      <th>4</th>\n",
       "      <td>Cactus</td>\n",
       "      <td>slow</td>\n",
       "      <td>sandy</td>\n",
       "      <td>full sunlight</td>\n",
       "      <td>Let soil dry between watering</td>\n",
       "      <td>Low-nitrogen</td>\n",
       "    </tr>\n",
       "  </tbody>\n",
       "</table>\n",
       "</div>"
      ],
      "text/plain": [
       "    Plant Name    Growth          Soil           Sunlight  \\\n",
       "0    Aloe Vera      slow         sandy  indirect sunlight   \n",
       "1        Basil      fast  well-drained      full sunlight   \n",
       "2  Snake Plant      slow  well-drained  indirect sunlight   \n",
       "3     Lavender  moderate         sandy      full sunlight   \n",
       "4       Cactus      slow         sandy      full sunlight   \n",
       "\n",
       "                        Watering Fertilization Type  \n",
       "0                   Water weekly           Balanced  \n",
       "1         Keep soil evenly moist            Organic  \n",
       "2         Water when soil is dry                 No  \n",
       "3  Let soil dry between watering                 No  \n",
       "4  Let soil dry between watering       Low-nitrogen  "
      ]
     },
     "execution_count": 85,
     "metadata": {},
     "output_type": "execute_result"
    }
   ],
   "source": [
    "import pandas as pd\n",
    "import numpy as np\n",
    "\n",
    "df = pd.read_csv(\"plants.csv\", encoding = \"latin1\")\n",
    "df.head()"
   ]
  },
  {
   "cell_type": "code",
   "execution_count": 86,
   "id": "6996c03b",
   "metadata": {},
   "outputs": [],
   "source": [
    "df = df.drop_duplicates(subset=df.columns[1:], keep='first')\n",
    "df = df.reset_index(drop=True)\n",
    "df.to_csv(\"dupa.csv\", index=False)"
   ]
  },
  {
   "cell_type": "code",
   "execution_count": 87,
   "id": "482de888",
   "metadata": {},
   "outputs": [
    {
     "name": "stderr",
     "output_type": "stream",
     "text": [
      "C:\\Users\\marta\\AppData\\Local\\Temp\\ipykernel_23812\\282462773.py:1: FutureWarning: ChainedAssignmentError: behaviour will change in pandas 3.0!\n",
      "You are setting values through chained assignment. Currently this works in certain cases, but when using Copy-on-Write (which will become the default behaviour in pandas 3.0) this will never work to update the original DataFrame or Series, because the intermediate object on which we are setting values will behave as a copy.\n",
      "A typical example is when you are setting values in a column of a DataFrame, like:\n",
      "\n",
      "df[\"col\"][row_indexer] = value\n",
      "\n",
      "Use `df.loc[row_indexer, \"col\"] = values` instead, to perform the assignment in a single step and ensure this keeps updating the original `df`.\n",
      "\n",
      "See the caveats in the documentation: https://pandas.pydata.org/pandas-docs/stable/user_guide/indexing.html#returning-a-view-versus-a-copy\n",
      "\n",
      "  df['Watering'][df[\"Watering\"]==\"Regular watering\"]=\"Regular Watering\"\n"
     ]
    }
   ],
   "source": [
    "df['Watering'][df[\"Watering\"]==\"Regular watering\"]=\"Regular Watering\""
   ]
  },
  {
   "cell_type": "code",
   "execution_count": 88,
   "id": "65772c85",
   "metadata": {},
   "outputs": [
    {
     "data": {
      "text/plain": [
       "array(['Water weekly', 'Keep soil evenly moist', 'Water when soil is dry',\n",
       "       'Let soil dry between watering', 'Keep soil consistently moist',\n",
       "       'Water when soil feels dry', 'Keep soil slightly moist',\n",
       "       'Water when topsoil is dry', 'Keep soil moist', 'Regular Watering',\n",
       "       'Regular, well-drained soil', 'Regular, moist soil'], dtype=object)"
      ]
     },
     "execution_count": 88,
     "metadata": {},
     "output_type": "execute_result"
    }
   ],
   "source": [
    "df['Watering'].unique()"
   ]
  },
  {
   "cell_type": "code",
   "execution_count": 89,
   "id": "0b6e4659",
   "metadata": {},
   "outputs": [
    {
     "data": {
      "text/html": [
       "<div>\n",
       "<style scoped>\n",
       "    .dataframe tbody tr th:only-of-type {\n",
       "        vertical-align: middle;\n",
       "    }\n",
       "\n",
       "    .dataframe tbody tr th {\n",
       "        vertical-align: top;\n",
       "    }\n",
       "\n",
       "    .dataframe thead th {\n",
       "        text-align: right;\n",
       "    }\n",
       "</style>\n",
       "<table border=\"1\" class=\"dataframe\">\n",
       "  <thead>\n",
       "    <tr style=\"text-align: right;\">\n",
       "      <th></th>\n",
       "      <th>Plant Name</th>\n",
       "      <th>Growth</th>\n",
       "      <th>Soil</th>\n",
       "      <th>Sunlight</th>\n",
       "      <th>Watering</th>\n",
       "      <th>Fertilization Type</th>\n",
       "      <th>Watering Frequency</th>\n",
       "    </tr>\n",
       "  </thead>\n",
       "  <tbody>\n",
       "    <tr>\n",
       "      <th>0</th>\n",
       "      <td>Aloe Vera</td>\n",
       "      <td>slow</td>\n",
       "      <td>sandy</td>\n",
       "      <td>indirect sunlight</td>\n",
       "      <td>Water weekly</td>\n",
       "      <td>Balanced</td>\n",
       "      <td>-0.272727</td>\n",
       "    </tr>\n",
       "    <tr>\n",
       "      <th>1</th>\n",
       "      <td>Basil</td>\n",
       "      <td>fast</td>\n",
       "      <td>well-drained</td>\n",
       "      <td>full sunlight</td>\n",
       "      <td>Keep soil evenly moist</td>\n",
       "      <td>Organic</td>\n",
       "      <td>0.818182</td>\n",
       "    </tr>\n",
       "    <tr>\n",
       "      <th>2</th>\n",
       "      <td>Snake Plant</td>\n",
       "      <td>slow</td>\n",
       "      <td>well-drained</td>\n",
       "      <td>indirect sunlight</td>\n",
       "      <td>Water when soil is dry</td>\n",
       "      <td>No</td>\n",
       "      <td>-0.818182</td>\n",
       "    </tr>\n",
       "    <tr>\n",
       "      <th>3</th>\n",
       "      <td>Lavender</td>\n",
       "      <td>moderate</td>\n",
       "      <td>sandy</td>\n",
       "      <td>full sunlight</td>\n",
       "      <td>Let soil dry between watering</td>\n",
       "      <td>No</td>\n",
       "      <td>-1.000000</td>\n",
       "    </tr>\n",
       "    <tr>\n",
       "      <th>4</th>\n",
       "      <td>Cactus</td>\n",
       "      <td>slow</td>\n",
       "      <td>sandy</td>\n",
       "      <td>full sunlight</td>\n",
       "      <td>Let soil dry between watering</td>\n",
       "      <td>Low-nitrogen</td>\n",
       "      <td>-1.000000</td>\n",
       "    </tr>\n",
       "  </tbody>\n",
       "</table>\n",
       "</div>"
      ],
      "text/plain": [
       "    Plant Name    Growth          Soil           Sunlight  \\\n",
       "0    Aloe Vera      slow         sandy  indirect sunlight   \n",
       "1        Basil      fast  well-drained      full sunlight   \n",
       "2  Snake Plant      slow  well-drained  indirect sunlight   \n",
       "3     Lavender  moderate         sandy      full sunlight   \n",
       "4       Cactus      slow         sandy      full sunlight   \n",
       "\n",
       "                        Watering Fertilization Type  Watering Frequency  \n",
       "0                   Water weekly           Balanced           -0.272727  \n",
       "1         Keep soil evenly moist            Organic            0.818182  \n",
       "2         Water when soil is dry                 No           -0.818182  \n",
       "3  Let soil dry between watering                 No           -1.000000  \n",
       "4  Let soil dry between watering       Low-nitrogen           -1.000000  "
      ]
     },
     "execution_count": 89,
     "metadata": {},
     "output_type": "execute_result"
    }
   ],
   "source": [
    "moisture_levels = [\n",
    "    \"Keep soil consistently moist\",\n",
    "    \"Keep soil evenly moist\",\n",
    "    \"Keep soil moist\",\n",
    "    \"Keep soil slightly moist\",\n",
    "    \"Regular, moist soil\",\n",
    "    \"Regular Watering\",\n",
    "    \"Regular, well-drained soil\",\n",
    "    \"Water weekly\",\n",
    "    \"Water when soil feels dry\",\n",
    "    \"Water when topsoil is dry\",\n",
    "    \"Water when soil is dry\",\n",
    "    \"Let soil dry between watering\"\n",
    "]\n",
    "level = np.linspace(1,-1,len(moisture_levels))\n",
    "mapping = dict(zip(moisture_levels,level))\n",
    "mapping\n",
    "# mapping\n",
    "df['Watering Frequency']=df[\"Watering\"].map(mapping)\n",
    "df.head()"
   ]
  },
  {
   "cell_type": "code",
   "execution_count": 90,
   "id": "965dd283",
   "metadata": {},
   "outputs": [
    {
     "data": {
      "text/plain": [
       "array(['Balanced', 'Organic', 'No', 'Low-nitrogen', 'Acidic'],\n",
       "      dtype=object)"
      ]
     },
     "execution_count": 90,
     "metadata": {},
     "output_type": "execute_result"
    }
   ],
   "source": [
    "df['Fertilization Type'].unique()"
   ]
  },
  {
   "cell_type": "code",
   "execution_count": 91,
   "id": "3ca0aefe",
   "metadata": {},
   "outputs": [],
   "source": [
    "health_level =[\n",
    "    \"Balanced\",\n",
    "    \"Organic\",\n",
    "    \"No\",\n",
    "    \"Low-nitrogen\",\n",
    "    \"Acidic\"\n",
    "]\n",
    "\n",
    "level = np.linspace(1,-1, len(health_level))\n",
    "mapping = dict(zip(health_level, level))\n",
    "\n",
    "df[\"Health Indicator\"] = df['Fertilization Type'].map(mapping)"
   ]
  },
  {
   "cell_type": "code",
   "execution_count": 92,
   "id": "b7443dcf",
   "metadata": {},
   "outputs": [
    {
     "data": {
      "text/html": [
       "<div>\n",
       "<style scoped>\n",
       "    .dataframe tbody tr th:only-of-type {\n",
       "        vertical-align: middle;\n",
       "    }\n",
       "\n",
       "    .dataframe tbody tr th {\n",
       "        vertical-align: top;\n",
       "    }\n",
       "\n",
       "    .dataframe thead th {\n",
       "        text-align: right;\n",
       "    }\n",
       "</style>\n",
       "<table border=\"1\" class=\"dataframe\">\n",
       "  <thead>\n",
       "    <tr style=\"text-align: right;\">\n",
       "      <th></th>\n",
       "      <th>Plant Name</th>\n",
       "      <th>Growth</th>\n",
       "      <th>Soil</th>\n",
       "      <th>Sunlight</th>\n",
       "      <th>Watering</th>\n",
       "      <th>Fertilization Type</th>\n",
       "      <th>Watering Frequency</th>\n",
       "      <th>Health Indicator</th>\n",
       "    </tr>\n",
       "  </thead>\n",
       "  <tbody>\n",
       "    <tr>\n",
       "      <th>0</th>\n",
       "      <td>Aloe Vera</td>\n",
       "      <td>slow</td>\n",
       "      <td>sandy</td>\n",
       "      <td>indirect sunlight</td>\n",
       "      <td>Water weekly</td>\n",
       "      <td>Balanced</td>\n",
       "      <td>-0.272727</td>\n",
       "      <td>1.0</td>\n",
       "    </tr>\n",
       "    <tr>\n",
       "      <th>1</th>\n",
       "      <td>Basil</td>\n",
       "      <td>fast</td>\n",
       "      <td>well-drained</td>\n",
       "      <td>full sunlight</td>\n",
       "      <td>Keep soil evenly moist</td>\n",
       "      <td>Organic</td>\n",
       "      <td>0.818182</td>\n",
       "      <td>0.5</td>\n",
       "    </tr>\n",
       "    <tr>\n",
       "      <th>2</th>\n",
       "      <td>Snake Plant</td>\n",
       "      <td>slow</td>\n",
       "      <td>well-drained</td>\n",
       "      <td>indirect sunlight</td>\n",
       "      <td>Water when soil is dry</td>\n",
       "      <td>No</td>\n",
       "      <td>-0.818182</td>\n",
       "      <td>0.0</td>\n",
       "    </tr>\n",
       "    <tr>\n",
       "      <th>3</th>\n",
       "      <td>Lavender</td>\n",
       "      <td>moderate</td>\n",
       "      <td>sandy</td>\n",
       "      <td>full sunlight</td>\n",
       "      <td>Let soil dry between watering</td>\n",
       "      <td>No</td>\n",
       "      <td>-1.000000</td>\n",
       "      <td>0.0</td>\n",
       "    </tr>\n",
       "    <tr>\n",
       "      <th>4</th>\n",
       "      <td>Cactus</td>\n",
       "      <td>slow</td>\n",
       "      <td>sandy</td>\n",
       "      <td>full sunlight</td>\n",
       "      <td>Let soil dry between watering</td>\n",
       "      <td>Low-nitrogen</td>\n",
       "      <td>-1.000000</td>\n",
       "      <td>-0.5</td>\n",
       "    </tr>\n",
       "  </tbody>\n",
       "</table>\n",
       "</div>"
      ],
      "text/plain": [
       "    Plant Name    Growth          Soil           Sunlight  \\\n",
       "0    Aloe Vera      slow         sandy  indirect sunlight   \n",
       "1        Basil      fast  well-drained      full sunlight   \n",
       "2  Snake Plant      slow  well-drained  indirect sunlight   \n",
       "3     Lavender  moderate         sandy      full sunlight   \n",
       "4       Cactus      slow         sandy      full sunlight   \n",
       "\n",
       "                        Watering Fertilization Type  Watering Frequency  \\\n",
       "0                   Water weekly           Balanced           -0.272727   \n",
       "1         Keep soil evenly moist            Organic            0.818182   \n",
       "2         Water when soil is dry                 No           -0.818182   \n",
       "3  Let soil dry between watering                 No           -1.000000   \n",
       "4  Let soil dry between watering       Low-nitrogen           -1.000000   \n",
       "\n",
       "   Health Indicator  \n",
       "0               1.0  \n",
       "1               0.5  \n",
       "2               0.0  \n",
       "3               0.0  \n",
       "4              -0.5  "
      ]
     },
     "execution_count": 92,
     "metadata": {},
     "output_type": "execute_result"
    }
   ],
   "source": [
    "df.head()"
   ]
  },
  {
   "cell_type": "code",
   "execution_count": 93,
   "id": "b62a93aa",
   "metadata": {},
   "outputs": [
    {
     "data": {
      "text/plain": [
       "array(['slow', 'fast', 'moderate'], dtype=object)"
      ]
     },
     "execution_count": 93,
     "metadata": {},
     "output_type": "execute_result"
    }
   ],
   "source": [
    "df['Growth'].unique()"
   ]
  },
  {
   "cell_type": "code",
   "execution_count": 94,
   "id": "8b11ecff",
   "metadata": {},
   "outputs": [],
   "source": [
    "efficiency_level=[\n",
    "    \"fast\",\n",
    "    \"moderate\",\n",
    "    \"slow\"\n",
    "]\n",
    "\n",
    "level = np.linspace(1,-1,len(efficiency_level))\n",
    "\n",
    "mapping = dict(zip(efficiency_level, level))\n",
    "df[\"Efficiency\"] = df['Growth'].map(mapping)"
   ]
  },
  {
   "cell_type": "code",
   "execution_count": 95,
   "id": "194706ea",
   "metadata": {},
   "outputs": [
    {
     "data": {
      "text/html": [
       "<div>\n",
       "<style scoped>\n",
       "    .dataframe tbody tr th:only-of-type {\n",
       "        vertical-align: middle;\n",
       "    }\n",
       "\n",
       "    .dataframe tbody tr th {\n",
       "        vertical-align: top;\n",
       "    }\n",
       "\n",
       "    .dataframe thead th {\n",
       "        text-align: right;\n",
       "    }\n",
       "</style>\n",
       "<table border=\"1\" class=\"dataframe\">\n",
       "  <thead>\n",
       "    <tr style=\"text-align: right;\">\n",
       "      <th></th>\n",
       "      <th>Plant Name</th>\n",
       "      <th>Growth</th>\n",
       "      <th>Soil</th>\n",
       "      <th>Sunlight</th>\n",
       "      <th>Watering</th>\n",
       "      <th>Fertilization Type</th>\n",
       "      <th>Watering Frequency</th>\n",
       "      <th>Health Indicator</th>\n",
       "      <th>Efficiency</th>\n",
       "    </tr>\n",
       "  </thead>\n",
       "  <tbody>\n",
       "    <tr>\n",
       "      <th>0</th>\n",
       "      <td>Aloe Vera</td>\n",
       "      <td>slow</td>\n",
       "      <td>sandy</td>\n",
       "      <td>indirect sunlight</td>\n",
       "      <td>Water weekly</td>\n",
       "      <td>Balanced</td>\n",
       "      <td>-0.272727</td>\n",
       "      <td>1.0</td>\n",
       "      <td>-1.0</td>\n",
       "    </tr>\n",
       "    <tr>\n",
       "      <th>1</th>\n",
       "      <td>Basil</td>\n",
       "      <td>fast</td>\n",
       "      <td>well-drained</td>\n",
       "      <td>full sunlight</td>\n",
       "      <td>Keep soil evenly moist</td>\n",
       "      <td>Organic</td>\n",
       "      <td>0.818182</td>\n",
       "      <td>0.5</td>\n",
       "      <td>1.0</td>\n",
       "    </tr>\n",
       "    <tr>\n",
       "      <th>2</th>\n",
       "      <td>Snake Plant</td>\n",
       "      <td>slow</td>\n",
       "      <td>well-drained</td>\n",
       "      <td>indirect sunlight</td>\n",
       "      <td>Water when soil is dry</td>\n",
       "      <td>No</td>\n",
       "      <td>-0.818182</td>\n",
       "      <td>0.0</td>\n",
       "      <td>-1.0</td>\n",
       "    </tr>\n",
       "    <tr>\n",
       "      <th>3</th>\n",
       "      <td>Lavender</td>\n",
       "      <td>moderate</td>\n",
       "      <td>sandy</td>\n",
       "      <td>full sunlight</td>\n",
       "      <td>Let soil dry between watering</td>\n",
       "      <td>No</td>\n",
       "      <td>-1.000000</td>\n",
       "      <td>0.0</td>\n",
       "      <td>0.0</td>\n",
       "    </tr>\n",
       "    <tr>\n",
       "      <th>4</th>\n",
       "      <td>Cactus</td>\n",
       "      <td>slow</td>\n",
       "      <td>sandy</td>\n",
       "      <td>full sunlight</td>\n",
       "      <td>Let soil dry between watering</td>\n",
       "      <td>Low-nitrogen</td>\n",
       "      <td>-1.000000</td>\n",
       "      <td>-0.5</td>\n",
       "      <td>-1.0</td>\n",
       "    </tr>\n",
       "  </tbody>\n",
       "</table>\n",
       "</div>"
      ],
      "text/plain": [
       "    Plant Name    Growth          Soil           Sunlight  \\\n",
       "0    Aloe Vera      slow         sandy  indirect sunlight   \n",
       "1        Basil      fast  well-drained      full sunlight   \n",
       "2  Snake Plant      slow  well-drained  indirect sunlight   \n",
       "3     Lavender  moderate         sandy      full sunlight   \n",
       "4       Cactus      slow         sandy      full sunlight   \n",
       "\n",
       "                        Watering Fertilization Type  Watering Frequency  \\\n",
       "0                   Water weekly           Balanced           -0.272727   \n",
       "1         Keep soil evenly moist            Organic            0.818182   \n",
       "2         Water when soil is dry                 No           -0.818182   \n",
       "3  Let soil dry between watering                 No           -1.000000   \n",
       "4  Let soil dry between watering       Low-nitrogen           -1.000000   \n",
       "\n",
       "   Health Indicator  Efficiency  \n",
       "0               1.0        -1.0  \n",
       "1               0.5         1.0  \n",
       "2               0.0        -1.0  \n",
       "3               0.0         0.0  \n",
       "4              -0.5        -1.0  "
      ]
     },
     "execution_count": 95,
     "metadata": {},
     "output_type": "execute_result"
    }
   ],
   "source": [
    "df.head()"
   ]
  },
  {
   "cell_type": "code",
   "execution_count": 96,
   "id": "cf046908",
   "metadata": {},
   "outputs": [
    {
     "data": {
      "text/plain": [
       "array(['sandy', 'well-drained', 'loamy', 'acidic', 'moist'], dtype=object)"
      ]
     },
     "execution_count": 96,
     "metadata": {},
     "output_type": "execute_result"
    }
   ],
   "source": [
    "df['Soil'].unique()"
   ]
  },
  {
   "cell_type": "code",
   "execution_count": 97,
   "id": "b9bff513",
   "metadata": {},
   "outputs": [
    {
     "data": {
      "text/html": [
       "<div>\n",
       "<style scoped>\n",
       "    .dataframe tbody tr th:only-of-type {\n",
       "        vertical-align: middle;\n",
       "    }\n",
       "\n",
       "    .dataframe tbody tr th {\n",
       "        vertical-align: top;\n",
       "    }\n",
       "\n",
       "    .dataframe thead th {\n",
       "        text-align: right;\n",
       "    }\n",
       "</style>\n",
       "<table border=\"1\" class=\"dataframe\">\n",
       "  <thead>\n",
       "    <tr style=\"text-align: right;\">\n",
       "      <th></th>\n",
       "      <th>Plant Name</th>\n",
       "      <th>Growth</th>\n",
       "      <th>Soil</th>\n",
       "      <th>Sunlight</th>\n",
       "      <th>Watering</th>\n",
       "      <th>Fertilization Type</th>\n",
       "      <th>Watering Frequency</th>\n",
       "      <th>Health Indicator</th>\n",
       "      <th>Efficiency</th>\n",
       "      <th>Soil goodness</th>\n",
       "    </tr>\n",
       "  </thead>\n",
       "  <tbody>\n",
       "    <tr>\n",
       "      <th>0</th>\n",
       "      <td>Aloe Vera</td>\n",
       "      <td>slow</td>\n",
       "      <td>sandy</td>\n",
       "      <td>indirect sunlight</td>\n",
       "      <td>Water weekly</td>\n",
       "      <td>Balanced</td>\n",
       "      <td>-0.272727</td>\n",
       "      <td>1.0</td>\n",
       "      <td>-1.0</td>\n",
       "      <td>-0.5</td>\n",
       "    </tr>\n",
       "    <tr>\n",
       "      <th>1</th>\n",
       "      <td>Basil</td>\n",
       "      <td>fast</td>\n",
       "      <td>well-drained</td>\n",
       "      <td>full sunlight</td>\n",
       "      <td>Keep soil evenly moist</td>\n",
       "      <td>Organic</td>\n",
       "      <td>0.818182</td>\n",
       "      <td>0.5</td>\n",
       "      <td>1.0</td>\n",
       "      <td>0.0</td>\n",
       "    </tr>\n",
       "    <tr>\n",
       "      <th>2</th>\n",
       "      <td>Snake Plant</td>\n",
       "      <td>slow</td>\n",
       "      <td>well-drained</td>\n",
       "      <td>indirect sunlight</td>\n",
       "      <td>Water when soil is dry</td>\n",
       "      <td>No</td>\n",
       "      <td>-0.818182</td>\n",
       "      <td>0.0</td>\n",
       "      <td>-1.0</td>\n",
       "      <td>0.0</td>\n",
       "    </tr>\n",
       "    <tr>\n",
       "      <th>3</th>\n",
       "      <td>Lavender</td>\n",
       "      <td>moderate</td>\n",
       "      <td>sandy</td>\n",
       "      <td>full sunlight</td>\n",
       "      <td>Let soil dry between watering</td>\n",
       "      <td>No</td>\n",
       "      <td>-1.000000</td>\n",
       "      <td>0.0</td>\n",
       "      <td>0.0</td>\n",
       "      <td>-0.5</td>\n",
       "    </tr>\n",
       "    <tr>\n",
       "      <th>4</th>\n",
       "      <td>Cactus</td>\n",
       "      <td>slow</td>\n",
       "      <td>sandy</td>\n",
       "      <td>full sunlight</td>\n",
       "      <td>Let soil dry between watering</td>\n",
       "      <td>Low-nitrogen</td>\n",
       "      <td>-1.000000</td>\n",
       "      <td>-0.5</td>\n",
       "      <td>-1.0</td>\n",
       "      <td>-0.5</td>\n",
       "    </tr>\n",
       "  </tbody>\n",
       "</table>\n",
       "</div>"
      ],
      "text/plain": [
       "    Plant Name    Growth          Soil           Sunlight  \\\n",
       "0    Aloe Vera      slow         sandy  indirect sunlight   \n",
       "1        Basil      fast  well-drained      full sunlight   \n",
       "2  Snake Plant      slow  well-drained  indirect sunlight   \n",
       "3     Lavender  moderate         sandy      full sunlight   \n",
       "4       Cactus      slow         sandy      full sunlight   \n",
       "\n",
       "                        Watering Fertilization Type  Watering Frequency  \\\n",
       "0                   Water weekly           Balanced           -0.272727   \n",
       "1         Keep soil evenly moist            Organic            0.818182   \n",
       "2         Water when soil is dry                 No           -0.818182   \n",
       "3  Let soil dry between watering                 No           -1.000000   \n",
       "4  Let soil dry between watering       Low-nitrogen           -1.000000   \n",
       "\n",
       "   Health Indicator  Efficiency  Soil goodness  \n",
       "0               1.0        -1.0           -0.5  \n",
       "1               0.5         1.0            0.0  \n",
       "2               0.0        -1.0            0.0  \n",
       "3               0.0         0.0           -0.5  \n",
       "4              -0.5        -1.0           -0.5  "
      ]
     },
     "execution_count": 97,
     "metadata": {},
     "output_type": "execute_result"
    }
   ],
   "source": [
    "soil = [\n",
    "    \"loamy\",\n",
    "    \"moist\",\n",
    "    \"well-drained\",\n",
    "    \"sandy\",\n",
    "    \"acidic\"\n",
    "]\n",
    "level = np.linspace(1,-1,len(soil))\n",
    "\n",
    "mapping = dict(zip(soil,level))\n",
    "\n",
    "df['Soil goodness'] = df['Soil'].map(mapping)\n",
    "\n",
    "df.head()"
   ]
  },
  {
   "cell_type": "code",
   "execution_count": 98,
   "id": "05aaab87",
   "metadata": {},
   "outputs": [
    {
     "data": {
      "text/plain": [
       "array(['indirect sunlight', 'full sunlight', 'partial sunlight'],\n",
       "      dtype=object)"
      ]
     },
     "execution_count": 98,
     "metadata": {},
     "output_type": "execute_result"
    }
   ],
   "source": [
    "df['Sunlight'].unique()"
   ]
  },
  {
   "cell_type": "code",
   "execution_count": 99,
   "id": "a610ee4b",
   "metadata": {},
   "outputs": [],
   "source": [
    "sun =['full sunlight',\n",
    "    'partial sunlight',\n",
    "     'indirect sunlight'\n",
    "]\n",
    "\n",
    "level =np.linspace(1,-1,len(sun))\n",
    "mapping = dict(zip(sun,level))\n",
    "\n",
    "df['sun liking'] = df['Sunlight'].map(mapping)"
   ]
  },
  {
   "cell_type": "code",
   "execution_count": null,
   "id": "0aea86d2",
   "metadata": {},
   "outputs": [
    {
     "ename": "ModuleNotFoundError",
     "evalue": "No module named 'transformers'",
     "output_type": "error",
     "traceback": [
      "\u001b[31m---------------------------------------------------------------------------\u001b[39m",
      "\u001b[31mModuleNotFoundError\u001b[39m                       Traceback (most recent call last)",
      "\u001b[36mCell\u001b[39m\u001b[36m \u001b[39m\u001b[32mIn[1]\u001b[39m\u001b[32m, line 1\u001b[39m\n\u001b[32m----> \u001b[39m\u001b[32m1\u001b[39m \u001b[38;5;28;01mfrom\u001b[39;00m\u001b[38;5;250m \u001b[39m\u001b[34;01mtransformers\u001b[39;00m\u001b[38;5;250m \u001b[39m\u001b[38;5;28;01mimport\u001b[39;00m AutoTokenizer\n\u001b[32m      2\u001b[39m \u001b[38;5;28;01mfrom\u001b[39;00m\u001b[38;5;250m \u001b[39m\u001b[34;01mtransformers\u001b[39;00m\u001b[38;5;250m \u001b[39m\u001b[38;5;28;01mimport\u001b[39;00m AutoModelForSequenceClassification\n",
      "\u001b[31mModuleNotFoundError\u001b[39m: No module named 'transformers'"
     ]
    }
   ],
   "source": [
    "from transformers import AutoTokenizer\n",
    "from transformers import AutoModelForSequenceClassification\n"
   ]
  },
  {
   "cell_type": "code",
   "execution_count": null,
   "id": "d5362bac",
   "metadata": {},
   "outputs": [
    {
     "data": {
      "application/vnd.jupyter.widget-view+json": {
       "model_id": "48d3f9303c3241e1bb5f71ff980b28a5",
       "version_major": 2,
       "version_minor": 0
      },
      "text/plain": [
       "config.json:   0%|          | 0.00/747 [00:00<?, ?B/s]"
      ]
     },
     "metadata": {},
     "output_type": "display_data"
    },
    {
     "name": "stderr",
     "output_type": "stream",
     "text": [
      "C:\\Users\\marta\\AppData\\Roaming\\Python\\Python313\\site-packages\\huggingface_hub\\file_download.py:143: UserWarning: `huggingface_hub` cache-system uses symlinks by default to efficiently store duplicated files but your machine does not support them in C:\\Users\\marta\\.cache\\huggingface\\hub\\models--cardiffnlp--twitter-roberta-base-sentiment. Caching files will still work but in a degraded version that might require more space on your disk. This warning can be disabled by setting the `HF_HUB_DISABLE_SYMLINKS_WARNING` environment variable. For more details, see https://huggingface.co/docs/huggingface_hub/how-to-cache#limitations.\n",
      "To support symlinks on Windows, you either need to activate Developer Mode or to run Python as an administrator. In order to activate developer mode, see this article: https://docs.microsoft.com/en-us/windows/apps/get-started/enable-your-device-for-development\n",
      "  warnings.warn(message)\n"
     ]
    },
    {
     "data": {
      "application/vnd.jupyter.widget-view+json": {
       "model_id": "0d350116d05f414daa18cd566ea94044",
       "version_major": 2,
       "version_minor": 0
      },
      "text/plain": [
       "vocab.json: 0.00B [00:00, ?B/s]"
      ]
     },
     "metadata": {},
     "output_type": "display_data"
    },
    {
     "data": {
      "application/vnd.jupyter.widget-view+json": {
       "model_id": "b4791ce609ff41b9af87af5b64f10c10",
       "version_major": 2,
       "version_minor": 0
      },
      "text/plain": [
       "merges.txt: 0.00B [00:00, ?B/s]"
      ]
     },
     "metadata": {},
     "output_type": "display_data"
    },
    {
     "data": {
      "application/vnd.jupyter.widget-view+json": {
       "model_id": "a726a728f0344422a28293e81eab3ceb",
       "version_major": 2,
       "version_minor": 0
      },
      "text/plain": [
       "special_tokens_map.json:   0%|          | 0.00/150 [00:00<?, ?B/s]"
      ]
     },
     "metadata": {},
     "output_type": "display_data"
    },
    {
     "name": "stderr",
     "output_type": "stream",
     "text": [
      "Xet Storage is enabled for this repo, but the 'hf_xet' package is not installed. Falling back to regular HTTP download. For better performance, install the package with: `pip install huggingface_hub[hf_xet]` or `pip install hf_xet`\n"
     ]
    },
    {
     "data": {
      "application/vnd.jupyter.widget-view+json": {
       "model_id": "0e6f26618d774ff488a3d29da63b1711",
       "version_major": 2,
       "version_minor": 0
      },
      "text/plain": [
       "pytorch_model.bin:   0%|          | 0.00/499M [00:00<?, ?B/s]"
      ]
     },
     "metadata": {},
     "output_type": "display_data"
    },
    {
     "name": "stderr",
     "output_type": "stream",
     "text": [
      "Xet Storage is enabled for this repo, but the 'hf_xet' package is not installed. Falling back to regular HTTP download. For better performance, install the package with: `pip install huggingface_hub[hf_xet]` or `pip install hf_xet`\n"
     ]
    }
   ],
   "source": [
    "MODEL = f\"cardiffnlp/twitter-roberta-base-sentiment\"\n",
    "tokenizer = AutoTokenizer.from_pretrained(MODEL)\n",
    "model = AutoModelForSequenceClassification.from_pretrained(MODEL)"
   ]
  },
  {
   "cell_type": "code",
   "execution_count": null,
   "id": "4eedea0b",
   "metadata": {},
   "outputs": [
    {
     "name": "stdout",
     "output_type": "stream",
     "text": [
      "{'roberta_neg': np.float32(0.03693147), 'roberta_neu': np.float32(0.8705518), 'roberta_pos': np.float32(0.092516765)}\n"
     ]
    }
   ],
   "source": [
    "from scipy.special import softmax\n",
    "encoded_text = tokenizer(\"yes\", return_tensors='pt')\n",
    "output = model(**encoded_text)\n",
    "scores = output[0][0].detach().numpy()\n",
    "scores = softmax(scores)\n",
    "scores_dict = {\n",
    "    'roberta_neg' : scores[0],\n",
    "    'roberta_neu' : scores[1],\n",
    "    'roberta_pos' : scores[2]\n",
    "}\n",
    "print(scores_dict)"
   ]
  },
  {
   "cell_type": "code",
   "execution_count": null,
   "id": "40820d6a",
   "metadata": {},
   "outputs": [],
   "source": []
  }
 ],
 "metadata": {
  "kernelspec": {
   "display_name": "Python 3",
   "language": "python",
   "name": "python3"
  },
  "language_info": {
   "codemirror_mode": {
    "name": "ipython",
    "version": 3
   },
   "file_extension": ".py",
   "mimetype": "text/x-python",
   "name": "python",
   "nbconvert_exporter": "python",
   "pygments_lexer": "ipython3",
   "version": "3.13.2"
  }
 },
 "nbformat": 4,
 "nbformat_minor": 5
}
